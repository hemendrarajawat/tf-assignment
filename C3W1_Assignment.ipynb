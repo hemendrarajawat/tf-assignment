{
 "cells": [
  {
   "cell_type": "markdown",
   "id": "juvenile-enforcement",
   "metadata": {},
   "source": [
    "# Week 1: Explore the BBC News archive\n",
    "\n",
    "Welcome! In this assignment you will be working with a variation of the [BBC News Classification Dataset](https://www.kaggle.com/c/learn-ai-bbc/overview), which contains 2225 examples of news articles with their respective categories (labels).\n",
    "\n",
    "Let's get started!"
   ]
  },
  {
   "cell_type": "code",
   "execution_count": 1,
   "id": "combined-brooklyn",
   "metadata": {
    "colab": {
     "base_uri": "https://localhost:8080/"
    },
    "id": "zrZevCPJ92HG",
    "outputId": "4ba10d10-1433-42fc-dc8e-83b297705cfe",
    "tags": [
     "graded"
    ]
   },
   "outputs": [],
   "source": [
    "import csv\n",
    "from tensorflow.keras.preprocessing.text import Tokenizer\n",
    "from tensorflow.keras.preprocessing.sequence import pad_sequences"
   ]
  },
  {
   "cell_type": "markdown",
   "id": "dependent-power",
   "metadata": {},
   "source": [
    "Begin by looking at the structure of the csv that contains the data:"
   ]
  },
  {
   "cell_type": "code",
   "execution_count": 3,
   "id": "finite-panic",
   "metadata": {
    "tags": [
     "graded"
    ]
   },
   "outputs": [
    {
     "name": "stdout",
     "output_type": "stream",
     "text": [
      "First line (header) looks like this:\n",
      "\n",
      "ArticleId,Text,Category\n",
      "\n",
      "Each data point looks like this:\n",
      "\n",
      "1833,worldcom ex-boss launches defence lawyers defending former worldcom chief bernie ebbers against a battery of fraud charges have called a company whistleblower as their first witness.  cynthia cooper  worldcom s ex-head of internal accounting  alerted directors to irregular accounting practices at the us telecoms giant in 2002. her warnings led to the collapse of the firm following the discovery of an $11bn (Â£5.7bn) accounting fraud. mr ebbers has pleaded not guilty to charges of fraud and conspiracy.  prosecution lawyers have argued that mr ebbers orchestrated a series of accounting tricks at worldcom  ordering employees to hide expenses and inflate revenues to meet wall street earnings estimates. but ms cooper  who now runs her own consulting business  told a jury in new york on wednesday that external auditors arthur andersen had approved worldcom s accounting in early 2001 and 2002. she said andersen had given a  green light  to the procedures and practices used by worldcom. mr ebber s lawyers have said he was unaware of the fraud  arguing that auditors did not alert him to any problems.  ms cooper also said that during shareholder meetings mr ebbers often passed over technical questions to the company s finance chief  giving only  brief  answers himself. the prosecution s star witness  former worldcom financial chief scott sullivan  has said that mr ebbers ordered accounting adjustments at the firm  telling him to  hit our books . however  ms cooper said mr sullivan had not mentioned  anything uncomfortable  about worldcom s accounting during a 2001 audit committee meeting. mr ebbers could face a jail sentence of 85 years if convicted of all the charges he is facing. worldcom emerged from bankruptcy protection in 2004  and is now known as mci. last week  mci agreed to a buyout by verizon communications in a deal valued at $6.75bn.,business\n",
      "\n"
     ]
    }
   ],
   "source": [
    "with open(\"./data/learn-ai-bbc/BBC News Train.csv\", 'r') as csvfile:\n",
    "    print(f\"First line (header) looks like this:\\n\\n{csvfile.readline()}\")\n",
    "    print(f\"Each data point looks like this:\\n\\n{csvfile.readline()}\")"
   ]
  },
  {
   "cell_type": "markdown",
   "id": "aggregate-calvin",
   "metadata": {},
   "source": [
    "As you can see, each data point is composed of the category of the news article followed by a comma and then the actual text of the article."
   ]
  },
  {
   "cell_type": "markdown",
   "id": "rocky-credit",
   "metadata": {},
   "source": [
    "## Removing Stopwords\n",
    "\n",
    "One important step when working with text data is to remove the **stopwords** from it. These are the most common words in the language and they rarely provide useful information for the classification process.\n",
    "\n",
    "Complete the `remove_stopwords` below. This function should receive a string and return another string that excludes all of the stopwords provided."
   ]
  },
  {
   "cell_type": "code",
   "execution_count": 4,
   "id": "permanent-privilege",
   "metadata": {
    "tags": [
     "graded"
    ]
   },
   "outputs": [],
   "source": [
    "# GRADED FUNCTION: remove_stopwords\n",
    "def remove_stopwords(sentence):\n",
    "    \"\"\"\n",
    "    Removes a list of stopwords\n",
    "    \n",
    "    Args:\n",
    "        sentence (string): sentence to remove the stopwords from\n",
    "    \n",
    "    Returns:\n",
    "        sentence (string): lowercase sentence without the stopwords\n",
    "    \"\"\"\n",
    "    # List of stopwords\n",
    "    stopwords = [\"a\", \"about\", \"above\", \"after\", \"again\", \"against\", \"all\", \"am\", \"an\", \"and\", \"any\", \"are\", \"as\", \"at\", \"be\", \"because\", \"been\", \"before\", \"being\", \"below\", \"between\", \"both\", \"but\", \"by\", \"could\", \"did\", \"do\", \"does\", \"doing\", \"down\", \"during\", \"each\", \"few\", \"for\", \"from\", \"further\", \"had\", \"has\", \"have\", \"having\", \"he\", \"he'd\", \"he'll\", \"he's\", \"her\", \"here\", \"here's\", \"hers\", \"herself\", \"him\", \"himself\", \"his\", \"how\", \"how's\", \"i\", \"i'd\", \"i'll\", \"i'm\", \"i've\", \"if\", \"in\", \"into\", \"is\", \"it\", \"it's\", \"its\", \"itself\", \"let's\", \"me\", \"more\", \"most\", \"my\", \"myself\", \"nor\", \"of\", \"on\", \"once\", \"only\", \"or\", \"other\", \"ought\", \"our\", \"ours\", \"ourselves\", \"out\", \"over\", \"own\", \"same\", \"she\", \"she'd\", \"she'll\", \"she's\", \"should\", \"so\", \"some\", \"such\", \"than\", \"that\", \"that's\", \"the\", \"their\", \"theirs\", \"them\", \"themselves\", \"then\", \"there\", \"there's\", \"these\", \"they\", \"they'd\", \"they'll\", \"they're\", \"they've\", \"this\", \"those\", \"through\", \"to\", \"too\", \"under\", \"until\", \"up\", \"very\", \"was\", \"we\", \"we'd\", \"we'll\", \"we're\", \"we've\", \"were\", \"what\", \"what's\", \"when\", \"when's\", \"where\", \"where's\", \"which\", \"while\", \"who\", \"who's\", \"whom\", \"why\", \"why's\", \"with\", \"would\", \"you\", \"you'd\", \"you'll\", \"you're\", \"you've\", \"your\", \"yours\", \"yourself\", \"yourselves\" ]\n",
    "    \n",
    "    # Sentence converted to lowercase-only\n",
    "    sentence = sentence.lower()\n",
    "    \n",
    "    ### START CODE HERE\n",
    "    sentence = ' '.join(\n",
    "        [word for word in sentence.split(' ') if word not in stopwords]\n",
    "    )\n",
    "    ### END CODE HERE\n",
    "    return sentence"
   ]
  },
  {
   "cell_type": "code",
   "execution_count": 5,
   "id": "northern-third",
   "metadata": {
    "tags": [
     "graded"
    ]
   },
   "outputs": [
    {
     "data": {
      "text/plain": [
       "'go store get snack'"
      ]
     },
     "execution_count": 5,
     "metadata": {},
     "output_type": "execute_result"
    }
   ],
   "source": [
    "# Test your function\n",
    "remove_stopwords(\"I am about to go to the store and get any snack\")"
   ]
  },
  {
   "cell_type": "markdown",
   "id": "pressed-excellence",
   "metadata": {},
   "source": [
    "***Expected Output:***\n",
    "```\n",
    "'go store get snack'\n",
    "\n",
    "```"
   ]
  },
  {
   "cell_type": "markdown",
   "id": "animal-photography",
   "metadata": {},
   "source": [
    "## Reading the raw data\n",
    "\n",
    "Now you need to read the data from the csv file. To do so, complete the `parse_data_from_file` function.\n",
    "\n",
    "A couple of things to note:\n",
    "- You should omit the first line as it contains the headers and not data points.\n",
    "- There is no need to save the data points as numpy arrays, regular lists is fine.\n",
    "- To read from csv files use [`csv.reader`](https://docs.python.org/3/library/csv.html#csv.reader) by passing the appropriate arguments.\n",
    "- `csv.reader` returns an iterable that returns each row in every iteration. So the label can be accessed via row[0] and the text via row[1].\n",
    "- Use the `remove_stopwords` function in each sentence."
   ]
  },
  {
   "cell_type": "code",
   "execution_count": 19,
   "id": "monthly-beginning",
   "metadata": {
    "tags": [
     "graded"
    ]
   },
   "outputs": [],
   "source": [
    "# GRADED FUNCTION: parse_data_from_file\n",
    "def parse_data_from_file(filename):\n",
    "    \"\"\"\n",
    "    Extracts sentences and labels from a CSV file\n",
    "    \n",
    "    Args:\n",
    "        filename (string): path to the CSV file\n",
    "    \n",
    "    Returns:\n",
    "        sentences, labels (list of string, list of string): tuple containing lists of sentences and labels\n",
    "    \"\"\"\n",
    "    sentences = []\n",
    "    labels = []\n",
    "    with open(filename, 'r') as csvfile:\n",
    "        ### START CODE HERE\n",
    "        reader = csv.reader(csvfile, delimiter=',')\n",
    "        next(reader)  # Ignoring header line\n",
    "\n",
    "        for line in reader:\n",
    "            sentences.append(remove_stopwords(line[1]))\n",
    "            labels.append(line[2])\n",
    "        ### END CODE HERE\n",
    "    return sentences, labels"
   ]
  },
  {
   "cell_type": "code",
   "execution_count": 22,
   "id": "listed-saturn",
   "metadata": {
    "tags": [
     "graded"
    ]
   },
   "outputs": [
    {
     "name": "stdout",
     "output_type": "stream",
     "text": [
      "ORIGINAL DATASET:\n",
      "\n",
      "There are 1490 sentences in the dataset.\n",
      "\n",
      "First sentence has 203 words (after removing stopwords).\n",
      "\n",
      "There are 1490 labels in the dataset.\n",
      "\n",
      "The first 5 labels are ['business', 'business', 'business', 'tech', 'business']\n",
      "\n",
      "\n",
      "MINIATURE DATASET:\n",
      "\n",
      "There are 5 sentences in the miniature dataset.\n",
      "\n",
      "First sentence has 203 words (after removing stopwords).\n",
      "\n",
      "There are 5 labels in the miniature dataset.\n",
      "\n",
      "The first 5 labels are ['business', 'business', 'business', 'tech', 'business']\n"
     ]
    }
   ],
   "source": [
    "# Test your function\n",
    "\n",
    "# With original dataset\n",
    "sentences, labels = parse_data_from_file(\"./data/learn-ai-bbc/BBC News Train.csv\")\n",
    "\n",
    "print(\"ORIGINAL DATASET:\\n\")\n",
    "print(f\"There are {len(sentences)} sentences in the dataset.\\n\")\n",
    "print(f\"First sentence has {len(sentences[0].split())} words (after removing stopwords).\\n\")\n",
    "print(f\"There are {len(labels)} labels in the dataset.\\n\")\n",
    "print(f\"The first 5 labels are {labels[:5]}\\n\\n\")\n",
    "\n",
    "# With a miniature version of the dataset that contains only first 5 rows\n",
    "mini_sentences, mini_labels = parse_data_from_file(\"./data/learn-ai-bbc/bbc-text-minimal.csv\")\n",
    "\n",
    "print(\"MINIATURE DATASET:\\n\")\n",
    "print(f\"There are {len(mini_sentences)} sentences in the miniature dataset.\\n\")\n",
    "print(f\"First sentence has {len(mini_sentences[0].split())} words (after removing stopwords).\\n\")\n",
    "print(f\"There are {len(mini_labels)} labels in the miniature dataset.\\n\")\n",
    "print(f\"The first 5 labels are {mini_labels[:5]}\")"
   ]
  },
  {
   "cell_type": "markdown",
   "id": "favorite-shanghai",
   "metadata": {},
   "source": [
    "***Expected Output:***\n",
    "```\n",
    "ORIGINAL DATASET:\n",
    "\n",
    "There are 2225 sentences in the dataset.\n",
    "\n",
    "First sentence has 436 words (after removing stopwords).\n",
    "\n",
    "There are 2225 labels in the dataset.\n",
    "\n",
    "The first 5 labels are ['tech', 'business', 'sport', 'sport', 'entertainment']\n",
    "\n",
    "\n",
    "MINIATURE DATASET:\n",
    "\n",
    "There are 5 sentences in the miniature dataset.\n",
    "\n",
    "First sentence has 436 words (after removing stopwords).\n",
    "\n",
    "There are 5 labels in the miniature dataset.\n",
    "\n",
    "The first 5 labels are ['tech', 'business', 'sport', 'sport', 'entertainment']\n",
    "\n",
    "```"
   ]
  },
  {
   "cell_type": "markdown",
   "id": "diverse-basket",
   "metadata": {},
   "source": [
    "## Using the Tokenizer\n",
    "\n",
    "Now it is time to tokenize the sentences of the dataset. \n",
    "\n",
    "Complete the `fit_tokenizer` below. \n",
    "\n",
    "This function should receive the list of sentences as input and return a [Tokenizer](https://www.tensorflow.org/api_docs/python/tf/keras/preprocessing/text/Tokenizer) that has been fitted to those sentences. You should also define the \"Out of Vocabulary\" token as `<OOV>`."
   ]
  },
  {
   "cell_type": "code",
   "execution_count": 23,
   "id": "cultural-virginia",
   "metadata": {
    "tags": [
     "graded"
    ]
   },
   "outputs": [],
   "source": [
    "# GRADED FUNCTION: fit_tokenizer\n",
    "def fit_tokenizer(sentences):\n",
    "    \"\"\"\n",
    "    Instantiates the Tokenizer class\n",
    "    \n",
    "    Args:\n",
    "        sentences (list): lower-cased sentences without stopwords\n",
    "    \n",
    "    Returns:\n",
    "        tokenizer (object): an instance of the Tokenizer class containing the word-index dictionary\n",
    "    \"\"\"\n",
    "    ### START CODE HERE\n",
    "    # Instantiate the Tokenizer class by passing in the oov_token argument\n",
    "    tokenizer = Tokenizer(\n",
    "        oov_token=\"<OOV>\"\n",
    "    )\n",
    "    # Fit on the sentences\n",
    "    tokenizer.fit_on_texts(sentences)\n",
    "    ### END CODE HERE\n",
    "    return tokenizer"
   ]
  },
  {
   "cell_type": "code",
   "execution_count": 24,
   "id": "tracked-hostel",
   "metadata": {
    "tags": [
     "graded"
    ]
   },
   "outputs": [
    {
     "name": "stdout",
     "output_type": "stream",
     "text": [
      "Vocabulary contains 24963 words\n",
      "\n",
      "<OOV> token included in vocabulary\n"
     ]
    }
   ],
   "source": [
    "tokenizer = fit_tokenizer(sentences)\n",
    "word_index = tokenizer.word_index\n",
    "\n",
    "print(f\"Vocabulary contains {len(word_index)} words\\n\")\n",
    "print(\"<OOV> token included in vocabulary\" if \"<OOV>\" in word_index else \"<OOV> token NOT included in vocabulary\")"
   ]
  },
  {
   "cell_type": "markdown",
   "id": "moderate-pollution",
   "metadata": {},
   "source": [
    "***Expected Output:***\n",
    "```\n",
    "Vocabulary contains 29714 words\n",
    "\n",
    "<OOV> token included in vocabulary\n",
    "\n",
    "```"
   ]
  },
  {
   "cell_type": "code",
   "execution_count": 27,
   "id": "golden-flash",
   "metadata": {
    "tags": [
     "graded"
    ]
   },
   "outputs": [],
   "source": [
    "# GRADED FUNCTION: get_padded_sequences\n",
    "def get_padded_sequences(tokenizer, sentences):\n",
    "    \"\"\"\n",
    "    Generates an array of token sequences and pads them to the same length\n",
    "    \n",
    "    Args:\n",
    "        tokenizer (object): Tokenizer instance containing the word-index dictionary\n",
    "        sentences (list of string): list of sentences to tokenize and pad\n",
    "    \n",
    "    Returns:\n",
    "        padded_sequences (array of int): tokenized sentences padded to the same length\n",
    "    \"\"\"\n",
    "    \n",
    "    ### START CODE HERE\n",
    "    # Convert sentences to sequences\n",
    "    sequences = tokenizer.texts_to_sequences(sentences)\n",
    "    \n",
    "    # Pad the sequences using the post padding strategy\n",
    "    padded_sequences = pad_sequences(sequences, padding='post')\n",
    "    ### END CODE HERE\n",
    "    \n",
    "    return padded_sequences"
   ]
  },
  {
   "cell_type": "code",
   "execution_count": 28,
   "id": "spanish-entrepreneur",
   "metadata": {
    "tags": [
     "graded"
    ]
   },
   "outputs": [
    {
     "name": "stdout",
     "output_type": "stream",
     "text": [
      "First padded sequence looks like this: \n",
      "\n",
      "[1322 1180  592 ...    0    0    0]\n",
      "\n",
      "Numpy array of all sequences has shape: (1490, 1881)\n",
      "\n",
      "This means there are 1490 sequences in total and each one has a size of 1881\n"
     ]
    }
   ],
   "source": [
    "padded_sequences = get_padded_sequences(tokenizer, sentences)\n",
    "print(f\"First padded sequence looks like this: \\n\\n{padded_sequences[0]}\\n\")\n",
    "print(f\"Numpy array of all sequences has shape: {padded_sequences.shape}\\n\")\n",
    "print(f\"This means there are {padded_sequences.shape[0]} sequences in total and each one has a size of {padded_sequences.shape[1]}\")"
   ]
  },
  {
   "cell_type": "markdown",
   "id": "wired-brief",
   "metadata": {},
   "source": [
    "***Expected Output:***\n",
    "```\n",
    "First padded sequence looks like this: \n",
    "\n",
    "[  96  176 1157 ...    0    0    0]\n",
    "\n",
    "Numpy array of all sequences has shape: (2225, 2438)\n",
    "\n",
    "This means there are 2225 sequences in total and each one has a size of 2438\n",
    "\n",
    "```"
   ]
  },
  {
   "cell_type": "code",
   "execution_count": 29,
   "id": "unknown-optimization",
   "metadata": {
    "tags": [
     "graded"
    ]
   },
   "outputs": [],
   "source": [
    "# GRADED FUNCTION: tokenize_labels\n",
    "def tokenize_labels(labels):\n",
    "    \"\"\"\n",
    "    Tokenizes the labels\n",
    "    \n",
    "    Args:\n",
    "        labels (list of string): labels to tokenize\n",
    "    \n",
    "    Returns:\n",
    "        label_sequences, label_word_index (list of string, dictionary): tokenized labels and the word-index\n",
    "    \"\"\"\n",
    "    ### START CODE HERE\n",
    "    \n",
    "    # Instantiate the Tokenizer class\n",
    "    # No need to pass additional arguments since you will be tokenizing the labels\n",
    "    label_tokenizer = Tokenizer()\n",
    "    \n",
    "    # Fit the tokenizer to the labels\n",
    "    label_tokenizer.fit_on_texts(labels)\n",
    "    \n",
    "    # Save the word index\n",
    "    label_word_index = label_tokenizer.word_index\n",
    "    \n",
    "    # Save the sequences\n",
    "    label_sequences = label_tokenizer.texts_to_sequences(labels)\n",
    "\n",
    "    ### END CODE HERE\n",
    "    \n",
    "    return label_sequences, label_word_index"
   ]
  },
  {
   "cell_type": "code",
   "execution_count": 30,
   "id": "streaming-conviction",
   "metadata": {
    "tags": [
     "graded"
    ]
   },
   "outputs": [
    {
     "name": "stdout",
     "output_type": "stream",
     "text": [
      "Vocabulary of labels looks like this {'sport': 1, 'business': 2, 'politics': 3, 'entertainment': 4, 'tech': 5}\n",
      "\n",
      "First ten sequences [[2], [2], [2], [5], [2], [3], [1], [4], [2], [4]]\n",
      "\n"
     ]
    }
   ],
   "source": [
    "label_sequences, label_word_index = tokenize_labels(labels)\n",
    "print(f\"Vocabulary of labels looks like this {label_word_index}\\n\")\n",
    "print(f\"First ten sequences {label_sequences[:10]}\\n\")"
   ]
  },
  {
   "cell_type": "markdown",
   "id": "endangered-poultry",
   "metadata": {},
   "source": [
    "***Expected Output:***\n",
    "```\n",
    "Vocabulary of labels looks like this {'sport': 1, 'business': 2, 'politics': 3, 'tech': 4, 'entertainment': 5}\n",
    "\n",
    "First ten sequences [[4], [2], [1], [1], [5], [3], [3], [1], [1], [5]]\n",
    "\n",
    "```"
   ]
  },
  {
   "cell_type": "markdown",
   "id": "cross-chess",
   "metadata": {
    "id": "6rITvNKqT-51"
   },
   "source": [
    "**Congratulations on finishing this week's assignment!**\n",
    "\n",
    "You have successfully implemented functions to process various text data processing ranging from pre-processing, reading from raw files and tokenizing text.\n",
    "\n",
    "**Keep it up!**"
   ]
  }
 ],
 "metadata": {
  "dlai_version": "1.2.0",
  "kernelspec": {
   "display_name": "Python 3.10.4 ('tensorflow')",
   "language": "python",
   "name": "python3"
  },
  "language_info": {
   "codemirror_mode": {
    "name": "ipython",
    "version": 3
   },
   "file_extension": ".py",
   "mimetype": "text/x-python",
   "name": "python",
   "nbconvert_exporter": "python",
   "pygments_lexer": "ipython3",
   "version": "3.10.4"
  },
  "vscode": {
   "interpreter": {
    "hash": "ccb0b0f8feeb51a13aad53dfc190360c4d48247e3e963858caa3f06038d72b09"
   }
  }
 },
 "nbformat": 4,
 "nbformat_minor": 5
}
